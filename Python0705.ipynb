{
  "nbformat": 4,
  "nbformat_minor": 0,
  "metadata": {
    "colab": {
      "provenance": [],
      "authorship_tag": "ABX9TyPjetxx49otpzQ70QiX0x/k",
      "include_colab_link": true
    },
    "kernelspec": {
      "name": "python3",
      "display_name": "Python 3"
    },
    "language_info": {
      "name": "python"
    }
  },
  "cells": [
    {
      "cell_type": "markdown",
      "metadata": {
        "id": "view-in-github",
        "colab_type": "text"
      },
      "source": [
        "<a href=\"https://colab.research.google.com/github/dnwlwlq123/endchat/blob/main/Python0705.ipynb\" target=\"_parent\"><img src=\"https://colab.research.google.com/assets/colab-badge.svg\" alt=\"Open In Colab\"/></a>"
      ]
    },
    {
      "cell_type": "code",
      "source": [
        "my_list = [1,2,3,4]\n",
        "list_iterator = iter(my_list)\n",
        "\n",
        "print(next(list_iterator))\n",
        "print(next(list_iterator))\n",
        "print(next(list_iterator))\n",
        "print(next(list_iterator))\n",
        "\n",
        "for item in iter(my_list):\n",
        "  print(item)"
      ],
      "metadata": {
        "colab": {
          "base_uri": "https://localhost:8080/"
        },
        "id": "zYjSqtuWSVn8",
        "outputId": "09e5a2e8-3f91-4dfb-8413-9e87d3a47b72"
      },
      "execution_count": 10,
      "outputs": [
        {
          "output_type": "stream",
          "name": "stdout",
          "text": [
            "1\n",
            "2\n",
            "3\n",
            "4\n"
          ]
        }
      ]
    },
    {
      "cell_type": "code",
      "source": [
        "my_list=['a','b','c','d']\n",
        "for index, value in enumerate(my_list):\n",
        "  print(f\"index:{index}, Value:{value}\")\n",
        "\n",
        "for index, value in enumerate(my_list, 10):\n",
        "  print(f\"index: {index}, Value:{value}\")"
      ],
      "metadata": {
        "colab": {
          "base_uri": "https://localhost:8080/"
        },
        "id": "FiEng8xaSjXD",
        "outputId": "c9950c1e-7f26-420d-9e8b-ab5e5c833c55"
      },
      "execution_count": 15,
      "outputs": [
        {
          "output_type": "stream",
          "name": "stdout",
          "text": [
            "index:0, Value:a\n",
            "index:1, Value:b\n",
            "index:2, Value:c\n",
            "index:3, Value:d\n",
            "index: 10, Value:a\n",
            "index: 11, Value:b\n",
            "index: 12, Value:c\n",
            "index: 13, Value:d\n"
          ]
        }
      ]
    },
    {
      "cell_type": "code",
      "source": [
        "def inputNum(x,y):\n",
        "  x = int(input(\"숫자 입력 : \"))\n",
        "  y = int(input(\"숫자 입력 : \"))\n",
        "  z = x + y\n",
        "  return f\"입력하신 {x} 와(과) {y} 의 합은 {z} 입니다. \"\n",
        "result = inputNum(0,0)\n",
        "print(result)"
      ],
      "metadata": {
        "colab": {
          "base_uri": "https://localhost:8080/"
        },
        "id": "l5nrklDxTUGg",
        "outputId": "e3a414a9-2626-4dac-93e6-89b4ad9a60ba"
      },
      "execution_count": 18,
      "outputs": [
        {
          "output_type": "stream",
          "name": "stdout",
          "text": [
            "숫자 입력 : 12\n",
            "숫자 입력 : 21\n",
            "입력하신 12 과(와) 21 의 합은 33 입니다. \n"
          ]
        }
      ]
    },
    {
      "cell_type": "code",
      "source": [
        "tj_list = [1,2,3,4,5]\n",
        "tj_avg = list(avg(lambda x: x+))\n",
        ""
      ],
      "metadata": {
        "id": "kzVAtpDkULTZ"
      },
      "execution_count": null,
      "outputs": []
    }
  ]
}